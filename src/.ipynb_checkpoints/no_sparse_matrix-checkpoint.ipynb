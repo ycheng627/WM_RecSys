{
 "cells": [
  {
   "cell_type": "code",
   "execution_count": 248,
   "metadata": {},
   "outputs": [],
   "source": [
    "import torch\n",
    "import scipy\n",
    "import numpy as np\n",
    "from torch.utils.data import Dataset, DataLoader\n",
    "import random\n",
    "from tqdm.notebook import tqdm, trange\n",
    "import torch.nn\n",
    "\n",
    "train_path = \"../train.csv\"\n",
    "n_users= 4454\n",
    "n_items = 3260\n",
    "n_factors = 16\n",
    "learning_rate = 0.01\n",
    "wd = 0.05\n",
    "batch_size = 128\n",
    "n_epochs = 30\n",
    "use_BPR = True"
   ]
  },
  {
   "cell_type": "code",
   "execution_count": 249,
   "metadata": {},
   "outputs": [],
   "source": [
    "class RatingsDataset(Dataset):\n",
    "    def __init__(self, ratings, n_users = 4454, n_items = 3260, transform=None):\n",
    "        self.ratings = ratings\n",
    "        self.length = sum(len(row) for row in ratings)\n",
    "        self.n_users = n_users\n",
    "        self.n_items = n_items\n",
    "\n",
    "    def __len__(self):\n",
    "        return self.length\n",
    "\n",
    "    def __getitem__(self, idx):\n",
    "        user = random.randrange(n_users)\n",
    "        pos_item = random.choice(self.ratings[user])\n",
    "        neg_item = random.randrange(n_items)\n",
    "        while neg_item in self.ratings[user]:\n",
    "            neg_item = random.randrange(n_items)\n",
    "        return user, pos_item, neg_item"
   ]
  },
  {
   "cell_type": "code",
   "execution_count": 250,
   "metadata": {},
   "outputs": [],
   "source": [
    "class MF(torch.nn.Module):## Model for task 1\n",
    "    def __init__(self, n_factors = 16, n_users = 4454, n_items = 3260):\n",
    "        super(MF, self).__init__()\n",
    "        self.user_factors = torch.nn.Embedding(n_users, n_factors)\n",
    "        self.item_factors = torch.nn.Embedding(n_items, n_factors)\n",
    "        \n",
    "    def forward(self, user, item):\n",
    "        return (self.user_factors(user) * self.item_factors(item)).sum(1)\n",
    "    "
   ]
  },
  {
   "cell_type": "code",
   "execution_count": 251,
   "metadata": {},
   "outputs": [
    {
     "data": {
      "application/vnd.jupyter.widget-view+json": {
       "model_id": "a7ec29bd114a48cb86c7dc4355742c6f",
       "version_major": 2,
       "version_minor": 0
      },
      "text/plain": [
       "HBox(children=(FloatProgress(value=0.0, description='0 / 30: 1', max=30.0, style=ProgressStyle(description_wid…"
      ]
     },
     "metadata": {},
     "output_type": "display_data"
    },
    {
     "name": "stdout",
     "output_type": "stream",
     "text": [
      "\n"
     ]
    }
   ],
   "source": [
    "ratings = []\n",
    "with open(train_path) as f:\n",
    "    for no, line in enumerate(f):\n",
    "        if no == 0: continue\n",
    "        line = line.split(\",\")\n",
    "        id = int(line[0])\n",
    "        items = [int(i) for i in line[1].split()]\n",
    "        ratings.append(items)\n",
    "\n",
    "ratingsDataset = RatingsDataset(ratings)\n",
    "\n",
    "train_loader = DataLoader(ratingsDataset, batch_size=batch_size,\n",
    "                        shuffle=True, num_workers=0)\n",
    "\n",
    "model = MF()\n",
    "if not use_BPR:\n",
    "    criterion = torch.nn.BCEWithLogitsLoss()\n",
    "else:\n",
    "    criterion = None\n",
    "optimizer = torch.optim.Adam(model.parameters(), lr=learning_rate, weight_decay= wd)\n",
    "\n",
    "pos_losses = []\n",
    "neg_losses = []\n",
    "\n",
    "t = trange(n_epochs, desc='{} / {}: {}'.format(0, n_epochs, 1), leave=True)\n",
    "for e in t:\n",
    "    model.train()\n",
    "#     for batch_num, batch in enumerate(tqdm(train_loader, leave = False, desc = \"{} / {}\".format(e, n_epochs))):\n",
    "    for batch_num, batch in enumerate(train_loader):\n",
    "        user, pos_item, neg_item = batch\n",
    "        pos_label = torch.ones(pos_item.shape)\n",
    "        neg_label = torch.zeros(neg_item.shape)\n",
    "        \n",
    "        if not use_BPR:\n",
    "            optimizer.zero_grad() \n",
    "            pos_pred = model(user, pos_item)\n",
    "            loss = criterion(pos_pred, pos_label)\n",
    "            pos_losses.append(loss)\n",
    "            loss.backward()\n",
    "            optimizer.step()\n",
    "\n",
    "            optimizer.zero_grad() \n",
    "            neg_pred = model(user, neg_item)\n",
    "            loss = criterion(neg_pred, neg_label)\n",
    "            neg_losses.append(loss)\n",
    "            loss.backward()\n",
    "            optimizer.step()\n",
    "        \n",
    "        else:\n",
    "            optimizer.zero_grad()\n",
    "            pos_pred = model(user, pos_item)\n",
    "            neg_pred = model(user, neg_item)\n",
    "            \n",
    "            loss = -(pos_pred-neg_pred).sigmoid().log().sum()\n",
    "            pos_losses.append(loss)\n",
    "            loss.backward()\n",
    "            optimizer.step()\n",
    "        \n",
    "        if batch_num % 100 == 0:\n",
    "            t.set_description('{} / {}: {:.1f}'.format(e, n_epochs, loss))\n",
    "            \n",
    "torch.save(model.state_dict(), \"model-{}.pt\".format(n_factors))\n"
   ]
  },
  {
   "cell_type": "code",
   "execution_count": 252,
   "metadata": {},
   "outputs": [
    {
     "data": {
      "image/png": "[encoded data removed]",
      "text/plain": [
       "<Figure size 432x288 with 1 Axes>"
      ]
     },
     "metadata": {
      "needs_background": "light"
     },
     "output_type": "display_data"
    },
    {
     "data": {
      "image/png": "[encoded data removed]",
      "text/plain": [
       "<Figure size 432x288 with 1 Axes>"
      ]
     },
     "metadata": {
      "needs_background": "light"
     },
     "output_type": "display_data"
    }
   ],
   "source": [
    "from matplotlib import pyplot as plt\n",
    "plt.plot(neg_losses)\n",
    "plt.show()\n",
    "plt.plot(pos_losses)\n",
    "plt.show()"
   ]
  },
  {
   "cell_type": "code",
   "execution_count": 253,
   "metadata": {},
   "outputs": [
    {
     "data": {
      "application/vnd.jupyter.widget-view+json": {
       "model_id": "3b56c4c8e4ca4174bafaf6f85ef17d27",
       "version_major": 2,
       "version_minor": 0
      },
      "text/plain": [
       "HBox(children=(FloatProgress(value=0.0, max=4454.0), HTML(value='')))"
      ]
     },
     "metadata": {},
     "output_type": "display_data"
    },
    {
     "name": "stdout",
     "output_type": "stream",
     "text": [
      "\n",
      "[968, 167, 2536, 2622, 1673, 3026, 2455, 2547, 2086, 2031, 1456, 1194, 898, 863, 2841, 1405, 2823, 838, 1949, 2997, 663, 621, 2324, 3142, 2747, 1104, 939, 706, 1063, 845, 2527, 1006, 1407, 1557, 2928, 2022, 331, 2445, 117, 2127, 2005, 490, 1195, 384, 2940, 1505, 333, 2030, 999, 2460]\n"
     ]
    }
   ],
   "source": [
    "model.load_state_dict(torch.load(\"model-{}.pt\".format(n_factors)))\n",
    "model.eval()\n",
    "\n",
    "answer = [[] for i in range(n_users)]\n",
    "\n",
    "for user in tqdm(range(n_users)):\n",
    "    model_items = [item for item in range(n_items) if item not in ratings[user]]\n",
    "    model_users = [user] * len(model_items)\n",
    "    \n",
    "    preds = model(torch.tensor(model_users), torch.tensor(model_items))\n",
    "    indices = torch.topk(preds, 50, sorted=True).indices.tolist()\n",
    "    answer[user] = [model_items[i] for i in indices]\n",
    "\n",
    "print(answer[user])"
   ]
  },
  {
   "cell_type": "code",
   "execution_count": 255,
   "metadata": {},
   "outputs": [],
   "source": [
    "with open(\"submission.csv\", 'w') as f:\n",
    "        f.write('UserId,ItemId\\n')\n",
    "        for user in range(len(answer)):\n",
    "            f.write('{},{}\\n'.format(str(user), ' '.join(str(a) for a in answer[user])))\n"
   ]
  },
  {
   "cell_type": "code",
   "execution_count": null,
   "metadata": {},
   "outputs": [],
   "source": []
  }
 ],
 "metadata": {
  "kernelspec": {
   "display_name": "Python 3",
   "language": "python",
   "name": "python3"
  },
  "language_info": {
   "codemirror_mode": {
    "name": "ipython",
    "version": 3
   },
   "file_extension": ".py",
   "mimetype": "text/x-python",
   "name": "python",
   "nbconvert_exporter": "python",
   "pygments_lexer": "ipython3",
   "version": "3.7.6"
  }
 },
 "nbformat": 4,
 "nbformat_minor": 4
}
