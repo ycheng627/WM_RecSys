{
 "cells": [
  {
   "cell_type": "code",
   "execution_count": 8,
   "metadata": {},
   "outputs": [],
   "source": [
    "import torch\n",
    "import scipy\n",
    "import numpy as np\n",
    "from torch.utils.data import Dataset, DataLoader\n",
    "import random\n",
    "from tqdm.notebook import tqdm, trange\n",
    "import torch.nn\n",
    "from scipy.sparse import coo_matrix\n",
    "from sklearn.model_selection import train_test_split\n",
    "\n",
    "train_path = \"../train.csv\"\n",
    "n_factors = 512\n",
    "learning_rate = 0.01\n",
    "wd =  0.0001\n",
    "batch_size = 4096\n",
    "n_epochs = 100\n",
    "use_BPR = True\n",
    "n_ng = 1"
   ]
  },
  {
   "cell_type": "code",
   "execution_count": 9,
   "metadata": {},
   "outputs": [],
   "source": [
    "class RatingsDataset(Dataset):\n",
    "    def __init__(self, ratings_list, ratings_set, n_users = 4454, n_items = 3260, n_ng = 1, is_training=None):\n",
    "        \"\"\"\n",
    "        Ratings is a scipy sparse matrix, list of keys (each of which have val of 1)\n",
    "        \"\"\"\n",
    "        self.ratings_list = ratings_list\n",
    "        self.ratings_set = ratings_set\n",
    "        self.n_users = n_users\n",
    "        self.n_items = n_items\n",
    "        self.n_ng = n_ng\n",
    "        self.is_training = is_training\n",
    "            \n",
    "    def __len__(self):\n",
    "        return len(self.ratings_list)\n",
    "\n",
    "    def __getitem__(self, idx):\n",
    "        rating = self.ratings_list[idx]\n",
    "        \n",
    "        user, pos_item = rating\n",
    "        neg_item = np.random.randint(self.n_items)\n",
    "        while (user, neg_item) in self.ratings_set:\n",
    "            neg_item = np.random.randint(self.n_items)\n",
    "        return user, pos_item, neg_item\n",
    "        "
   ]
  },
  {
   "cell_type": "code",
   "execution_count": 10,
   "metadata": {},
   "outputs": [],
   "source": [
    "class MF(torch.nn.Module):## Model for task 1\n",
    "    def __init__(self, n_factors = 16, n_users = 4454, n_items = 3260):\n",
    "        super(MF, self).__init__()\n",
    "        self.user_factors = torch.nn.Embedding(n_users, n_factors)\n",
    "        self.item_factors = torch.nn.Embedding(n_items, n_factors)\n",
    "\n",
    "        torch.nn.init.normal_(self.user_factors.weight, std=0.01)\n",
    "        torch.nn.init.normal_(self.item_factors.weight, std=0.01)\n",
    "\n",
    "        print(n_factors, n_users, n_items)\n",
    "        \n",
    "    def forward(self, user, item):\n",
    "        return (self.user_factors(user) * self.item_factors(item)).sum(1)"
   ]
  },
  {
   "cell_type": "code",
   "execution_count": 11,
   "metadata": {},
   "outputs": [],
   "source": [
    "ratings_list = []\n",
    "n_users = 0\n",
    "n_items = 0\n",
    "with open(train_path) as f:\n",
    "    for no, line in enumerate(f):\n",
    "        if no == 0: continue\n",
    "        line = line.split(\",\")\n",
    "        id = int(line[0])\n",
    "        items = line[1].split()\n",
    "        for item in items:\n",
    "            ratings_list.append((id, int(item)))\n",
    "            if id > n_users:\n",
    "                n_users  = id\n",
    "            if int(item) > n_items:\n",
    "                n_items = int(item)\n",
    "\n",
    "\n",
    "n_users += 1\n",
    "n_items += 1\n",
    "\n",
    "ratings_set = set(ratings_list)\n",
    "            "
   ]
  },
  {
   "cell_type": "code",
   "execution_count": 12,
   "metadata": {},
   "outputs": [
    {
     "name": "stdout",
     "output_type": "stream",
     "text": [
      "278169\n",
      "30908\n",
      "278169\n",
      "30908\n"
     ]
    }
   ],
   "source": [
    "def randomized_split(li, ratio):\n",
    "    random.shuffle(data)\n",
    "    train_data = data[:ratio * len(li)]\n",
    "    test_data = data[ratio * len(li):]\n",
    "\n",
    "train_ratings_list, val_ratings_list =  randomized_split(ratings_list, 0.9)\n",
    "\n",
    "print(len(train_ratings_list))\n",
    "print(len(val_ratings_list))\n",
    "\n",
    "train_dataset = RatingsDataset(train_ratings_list, ratings_set, n_ng = n_ng, is_training = True)\n",
    "val_dataset = RatingsDataset(val_ratings_list, ratings_set, is_training = False)\n",
    "\n",
    "print(len(train_dataset))\n",
    "print(len(val_dataset))\n",
    "\n",
    "train_loader = DataLoader(train_dataset, batch_size=batch_size, shuffle=True, num_workers=0)\n",
    "val_loader = DataLoader(val_dataset, batch_size=batch_size, shuffle=True, num_workers=0)"
   ]
  },
  {
   "cell_type": "code",
   "execution_count": 13,
   "metadata": {},
   "outputs": [
    {
     "name": "stdout",
     "output_type": "stream",
     "text": [
      "[(0, 1938), (0, 490), (0, 128), (0, 1197), (0, 2893), (0, 2983), (0, 1861), (0, 1307), (0, 2547), (0, 2312)]\n"
     ]
    }
   ],
   "source": [
    "print(ratings_list[:10])"
   ]
  },
  {
   "cell_type": "code",
   "execution_count": 15,
   "metadata": {
    "scrolled": true
   },
   "outputs": [
    {
     "name": "stdout",
     "output_type": "stream",
     "text": [
      "512 4454 3260\n",
      "cuda\n",
      "SGD (\n",
      "Parameter Group 0\n",
      "    dampening: 0\n",
      "    lr: 0.01\n",
      "    momentum: 0\n",
      "    nesterov: False\n",
      "    weight_decay: 0.0001\n",
      ")\n"
     ]
    },
    {
     "data": {
      "application/vnd.jupyter.widget-view+json": {
       "model_id": "d627d3ec7c2546a1a187f20f869988b3",
       "version_major": 2,
       "version_minor": 0
      },
      "text/plain": [
       "HBox(children=(FloatProgress(value=0.0, description='0 / 100: 1', style=ProgressStyle(description_width='initi…"
      ]
     },
     "metadata": {},
     "output_type": "display_data"
    },
    {
     "name": "stdout",
     "output_type": "stream",
     "text": [
      "train loss: \t0.6931\tval loss: \t0.6931\n",
      "train loss: \t0.6928\tval loss: \t0.6930\n",
      "train loss: \t0.6921\tval loss: \t0.6921\n",
      "train loss: \t0.6899\tval loss: \t0.6883\n",
      "train loss: \t0.6808\tval loss: \t0.6717\n",
      "train loss: \t0.6477\tval loss: \t0.6186\n",
      "train loss: \t0.5738\tval loss: \t0.5327\n"
     ]
    },
    {
     "ename": "KeyboardInterrupt",
     "evalue": "",
     "output_type": "error",
     "traceback": [
      "\u001b[0;31m---------------------------------------------------------------------------\u001b[0m",
      "\u001b[0;31mKeyboardInterrupt\u001b[0m                         Traceback (most recent call last)",
      "\u001b[0;32m<ipython-input-15-296366373243>\u001b[0m in \u001b[0;36m<module>\u001b[0;34m\u001b[0m\n\u001b[1;32m     41\u001b[0m         \u001b[0mavg_loss\u001b[0m \u001b[0;34m=\u001b[0m \u001b[0;36m0\u001b[0m\u001b[0;34m\u001b[0m\u001b[0;34m\u001b[0m\u001b[0m\n\u001b[1;32m     42\u001b[0m         \u001b[0mavg_loss_cnt\u001b[0m \u001b[0;34m=\u001b[0m \u001b[0;36m0\u001b[0m\u001b[0;34m\u001b[0m\u001b[0;34m\u001b[0m\u001b[0m\n\u001b[0;32m---> 43\u001b[0;31m         \u001b[0;32mfor\u001b[0m \u001b[0mbatch_num\u001b[0m\u001b[0;34m,\u001b[0m \u001b[0mbatch\u001b[0m \u001b[0;32min\u001b[0m \u001b[0menumerate\u001b[0m\u001b[0;34m(\u001b[0m\u001b[0mtrain_loader\u001b[0m\u001b[0;34m)\u001b[0m\u001b[0;34m:\u001b[0m\u001b[0;34m\u001b[0m\u001b[0;34m\u001b[0m\u001b[0m\n\u001b[0m\u001b[1;32m     44\u001b[0m             \u001b[0muser\u001b[0m\u001b[0;34m,\u001b[0m \u001b[0mpos_item\u001b[0m\u001b[0;34m,\u001b[0m \u001b[0mneg_item\u001b[0m \u001b[0;34m=\u001b[0m \u001b[0mbatch\u001b[0m\u001b[0;34m\u001b[0m\u001b[0;34m\u001b[0m\u001b[0m\n\u001b[1;32m     45\u001b[0m             \u001b[0muser\u001b[0m \u001b[0;34m=\u001b[0m \u001b[0muser\u001b[0m\u001b[0;34m.\u001b[0m\u001b[0mto\u001b[0m\u001b[0;34m(\u001b[0m\u001b[0mdevice\u001b[0m\u001b[0;34m)\u001b[0m\u001b[0;34m\u001b[0m\u001b[0;34m\u001b[0m\u001b[0m\n",
      "\u001b[0;32m~/anaconda3/lib/python3.7/site-packages/torch/utils/data/dataloader.py\u001b[0m in \u001b[0;36m__next__\u001b[0;34m(self)\u001b[0m\n\u001b[1;32m    343\u001b[0m \u001b[0;34m\u001b[0m\u001b[0m\n\u001b[1;32m    344\u001b[0m     \u001b[0;32mdef\u001b[0m \u001b[0m__next__\u001b[0m\u001b[0;34m(\u001b[0m\u001b[0mself\u001b[0m\u001b[0;34m)\u001b[0m\u001b[0;34m:\u001b[0m\u001b[0;34m\u001b[0m\u001b[0;34m\u001b[0m\u001b[0m\n\u001b[0;32m--> 345\u001b[0;31m         \u001b[0mdata\u001b[0m \u001b[0;34m=\u001b[0m \u001b[0mself\u001b[0m\u001b[0;34m.\u001b[0m\u001b[0m_next_data\u001b[0m\u001b[0;34m(\u001b[0m\u001b[0;34m)\u001b[0m\u001b[0;34m\u001b[0m\u001b[0;34m\u001b[0m\u001b[0m\n\u001b[0m\u001b[1;32m    346\u001b[0m         \u001b[0mself\u001b[0m\u001b[0;34m.\u001b[0m\u001b[0m_num_yielded\u001b[0m \u001b[0;34m+=\u001b[0m \u001b[0;36m1\u001b[0m\u001b[0;34m\u001b[0m\u001b[0;34m\u001b[0m\u001b[0m\n\u001b[1;32m    347\u001b[0m         \u001b[0;32mif\u001b[0m \u001b[0mself\u001b[0m\u001b[0;34m.\u001b[0m\u001b[0m_dataset_kind\u001b[0m \u001b[0;34m==\u001b[0m \u001b[0m_DatasetKind\u001b[0m\u001b[0;34m.\u001b[0m\u001b[0mIterable\u001b[0m \u001b[0;32mand\u001b[0m\u001b[0;31m \u001b[0m\u001b[0;31m\\\u001b[0m\u001b[0;34m\u001b[0m\u001b[0;34m\u001b[0m\u001b[0m\n",
      "\u001b[0;32m~/anaconda3/lib/python3.7/site-packages/torch/utils/data/dataloader.py\u001b[0m in \u001b[0;36m_next_data\u001b[0;34m(self)\u001b[0m\n\u001b[1;32m    383\u001b[0m     \u001b[0;32mdef\u001b[0m \u001b[0m_next_data\u001b[0m\u001b[0;34m(\u001b[0m\u001b[0mself\u001b[0m\u001b[0;34m)\u001b[0m\u001b[0;34m:\u001b[0m\u001b[0;34m\u001b[0m\u001b[0;34m\u001b[0m\u001b[0m\n\u001b[1;32m    384\u001b[0m         \u001b[0mindex\u001b[0m \u001b[0;34m=\u001b[0m \u001b[0mself\u001b[0m\u001b[0;34m.\u001b[0m\u001b[0m_next_index\u001b[0m\u001b[0;34m(\u001b[0m\u001b[0;34m)\u001b[0m  \u001b[0;31m# may raise StopIteration\u001b[0m\u001b[0;34m\u001b[0m\u001b[0;34m\u001b[0m\u001b[0m\n\u001b[0;32m--> 385\u001b[0;31m         \u001b[0mdata\u001b[0m \u001b[0;34m=\u001b[0m \u001b[0mself\u001b[0m\u001b[0;34m.\u001b[0m\u001b[0m_dataset_fetcher\u001b[0m\u001b[0;34m.\u001b[0m\u001b[0mfetch\u001b[0m\u001b[0;34m(\u001b[0m\u001b[0mindex\u001b[0m\u001b[0;34m)\u001b[0m  \u001b[0;31m# may raise StopIteration\u001b[0m\u001b[0;34m\u001b[0m\u001b[0;34m\u001b[0m\u001b[0m\n\u001b[0m\u001b[1;32m    386\u001b[0m         \u001b[0;32mif\u001b[0m \u001b[0mself\u001b[0m\u001b[0;34m.\u001b[0m\u001b[0m_pin_memory\u001b[0m\u001b[0;34m:\u001b[0m\u001b[0;34m\u001b[0m\u001b[0;34m\u001b[0m\u001b[0m\n\u001b[1;32m    387\u001b[0m             \u001b[0mdata\u001b[0m \u001b[0;34m=\u001b[0m \u001b[0m_utils\u001b[0m\u001b[0;34m.\u001b[0m\u001b[0mpin_memory\u001b[0m\u001b[0;34m.\u001b[0m\u001b[0mpin_memory\u001b[0m\u001b[0;34m(\u001b[0m\u001b[0mdata\u001b[0m\u001b[0;34m)\u001b[0m\u001b[0;34m\u001b[0m\u001b[0;34m\u001b[0m\u001b[0m\n",
      "\u001b[0;32m~/anaconda3/lib/python3.7/site-packages/torch/utils/data/_utils/fetch.py\u001b[0m in \u001b[0;36mfetch\u001b[0;34m(self, possibly_batched_index)\u001b[0m\n\u001b[1;32m     42\u001b[0m     \u001b[0;32mdef\u001b[0m \u001b[0mfetch\u001b[0m\u001b[0;34m(\u001b[0m\u001b[0mself\u001b[0m\u001b[0;34m,\u001b[0m \u001b[0mpossibly_batched_index\u001b[0m\u001b[0;34m)\u001b[0m\u001b[0;34m:\u001b[0m\u001b[0;34m\u001b[0m\u001b[0;34m\u001b[0m\u001b[0m\n\u001b[1;32m     43\u001b[0m         \u001b[0;32mif\u001b[0m \u001b[0mself\u001b[0m\u001b[0;34m.\u001b[0m\u001b[0mauto_collation\u001b[0m\u001b[0;34m:\u001b[0m\u001b[0;34m\u001b[0m\u001b[0;34m\u001b[0m\u001b[0m\n\u001b[0;32m---> 44\u001b[0;31m             \u001b[0mdata\u001b[0m \u001b[0;34m=\u001b[0m \u001b[0;34m[\u001b[0m\u001b[0mself\u001b[0m\u001b[0;34m.\u001b[0m\u001b[0mdataset\u001b[0m\u001b[0;34m[\u001b[0m\u001b[0midx\u001b[0m\u001b[0;34m]\u001b[0m \u001b[0;32mfor\u001b[0m \u001b[0midx\u001b[0m \u001b[0;32min\u001b[0m \u001b[0mpossibly_batched_index\u001b[0m\u001b[0;34m]\u001b[0m\u001b[0;34m\u001b[0m\u001b[0;34m\u001b[0m\u001b[0m\n\u001b[0m\u001b[1;32m     45\u001b[0m         \u001b[0;32melse\u001b[0m\u001b[0;34m:\u001b[0m\u001b[0;34m\u001b[0m\u001b[0;34m\u001b[0m\u001b[0m\n\u001b[1;32m     46\u001b[0m             \u001b[0mdata\u001b[0m \u001b[0;34m=\u001b[0m \u001b[0mself\u001b[0m\u001b[0;34m.\u001b[0m\u001b[0mdataset\u001b[0m\u001b[0;34m[\u001b[0m\u001b[0mpossibly_batched_index\u001b[0m\u001b[0;34m]\u001b[0m\u001b[0;34m\u001b[0m\u001b[0;34m\u001b[0m\u001b[0m\n",
      "\u001b[0;32m~/anaconda3/lib/python3.7/site-packages/torch/utils/data/_utils/fetch.py\u001b[0m in \u001b[0;36m<listcomp>\u001b[0;34m(.0)\u001b[0m\n\u001b[1;32m     42\u001b[0m     \u001b[0;32mdef\u001b[0m \u001b[0mfetch\u001b[0m\u001b[0;34m(\u001b[0m\u001b[0mself\u001b[0m\u001b[0;34m,\u001b[0m \u001b[0mpossibly_batched_index\u001b[0m\u001b[0;34m)\u001b[0m\u001b[0;34m:\u001b[0m\u001b[0;34m\u001b[0m\u001b[0;34m\u001b[0m\u001b[0m\n\u001b[1;32m     43\u001b[0m         \u001b[0;32mif\u001b[0m \u001b[0mself\u001b[0m\u001b[0;34m.\u001b[0m\u001b[0mauto_collation\u001b[0m\u001b[0;34m:\u001b[0m\u001b[0;34m\u001b[0m\u001b[0;34m\u001b[0m\u001b[0m\n\u001b[0;32m---> 44\u001b[0;31m             \u001b[0mdata\u001b[0m \u001b[0;34m=\u001b[0m \u001b[0;34m[\u001b[0m\u001b[0mself\u001b[0m\u001b[0;34m.\u001b[0m\u001b[0mdataset\u001b[0m\u001b[0;34m[\u001b[0m\u001b[0midx\u001b[0m\u001b[0;34m]\u001b[0m \u001b[0;32mfor\u001b[0m \u001b[0midx\u001b[0m \u001b[0;32min\u001b[0m \u001b[0mpossibly_batched_index\u001b[0m\u001b[0;34m]\u001b[0m\u001b[0;34m\u001b[0m\u001b[0;34m\u001b[0m\u001b[0m\n\u001b[0m\u001b[1;32m     45\u001b[0m         \u001b[0;32melse\u001b[0m\u001b[0;34m:\u001b[0m\u001b[0;34m\u001b[0m\u001b[0;34m\u001b[0m\u001b[0m\n\u001b[1;32m     46\u001b[0m             \u001b[0mdata\u001b[0m \u001b[0;34m=\u001b[0m \u001b[0mself\u001b[0m\u001b[0;34m.\u001b[0m\u001b[0mdataset\u001b[0m\u001b[0;34m[\u001b[0m\u001b[0mpossibly_batched_index\u001b[0m\u001b[0;34m]\u001b[0m\u001b[0;34m\u001b[0m\u001b[0;34m\u001b[0m\u001b[0m\n",
      "\u001b[0;32m<ipython-input-9-d6c404e6ff99>\u001b[0m in \u001b[0;36m__getitem__\u001b[0;34m(self, idx)\u001b[0m\n\u001b[1;32m     18\u001b[0m \u001b[0;34m\u001b[0m\u001b[0m\n\u001b[1;32m     19\u001b[0m         \u001b[0muser\u001b[0m\u001b[0;34m,\u001b[0m \u001b[0mpos_item\u001b[0m \u001b[0;34m=\u001b[0m \u001b[0mrating\u001b[0m\u001b[0;34m\u001b[0m\u001b[0;34m\u001b[0m\u001b[0m\n\u001b[0;32m---> 20\u001b[0;31m         \u001b[0mneg_item\u001b[0m \u001b[0;34m=\u001b[0m \u001b[0mnp\u001b[0m\u001b[0;34m.\u001b[0m\u001b[0mrandom\u001b[0m\u001b[0;34m.\u001b[0m\u001b[0mrandint\u001b[0m\u001b[0;34m(\u001b[0m\u001b[0mself\u001b[0m\u001b[0;34m.\u001b[0m\u001b[0mn_items\u001b[0m\u001b[0;34m)\u001b[0m\u001b[0;34m\u001b[0m\u001b[0;34m\u001b[0m\u001b[0m\n\u001b[0m\u001b[1;32m     21\u001b[0m         \u001b[0;32mwhile\u001b[0m \u001b[0;34m(\u001b[0m\u001b[0muser\u001b[0m\u001b[0;34m,\u001b[0m \u001b[0mneg_item\u001b[0m\u001b[0;34m)\u001b[0m \u001b[0;32min\u001b[0m \u001b[0mself\u001b[0m\u001b[0;34m.\u001b[0m\u001b[0mratings_set\u001b[0m\u001b[0;34m:\u001b[0m\u001b[0;34m\u001b[0m\u001b[0;34m\u001b[0m\u001b[0m\n\u001b[1;32m     22\u001b[0m             \u001b[0mneg_item\u001b[0m \u001b[0;34m=\u001b[0m \u001b[0mnp\u001b[0m\u001b[0;34m.\u001b[0m\u001b[0mrandom\u001b[0m\u001b[0;34m.\u001b[0m\u001b[0mrandint\u001b[0m\u001b[0;34m(\u001b[0m\u001b[0mself\u001b[0m\u001b[0;34m.\u001b[0m\u001b[0mn_items\u001b[0m\u001b[0;34m)\u001b[0m\u001b[0;34m\u001b[0m\u001b[0;34m\u001b[0m\u001b[0m\n",
      "\u001b[0;31mKeyboardInterrupt\u001b[0m: "
     ]
    }
   ],
   "source": [
    "model = MF(n_factors = n_factors, n_users = n_users, n_items = n_items)\n",
    "if not use_BPR:\n",
    "    criterion = torch.nn.BCEWithLogitsLoss()\n",
    "else:\n",
    "    criterion = None\n",
    "# optimizer = torch.optim.Adam(model.parameters(), lr=learning_rate, weight_decay= wd)\n",
    "optimizer = torch.optim.SGD(model.parameters(), lr=learning_rate, weight_decay=wd)\n",
    "\n",
    "device = torch.device('cuda' if torch.cuda.is_available() else 'cpu')\n",
    "print(device)\n",
    "print(optimizer)\n",
    "model.to(device)\n",
    "\n",
    "\n",
    "best_loss = 100\n",
    "\n",
    "t = trange(n_epochs, desc='{} / {}: {}'.format(0, n_epochs, 1), leave=True)\n",
    "for e in t:\n",
    "    model.train()\n",
    "    \n",
    "    if not use_BPR:\n",
    "        for batch_num, batch in enumerate(train_loader):\n",
    "            user, pos_item, neg_item = batch\n",
    "            \n",
    "            \n",
    "            pos_label = torch.ones(pos_item.shape)\n",
    "            neg_label = torch.zeros(neg_item.shape)\n",
    "\n",
    "            optimizer.zero_grad() \n",
    "            pos_pred = model(user.to(device), pos_item.to(device))\n",
    "            loss = criterion(pos_pred, pos_label)\n",
    "            loss.backward()\n",
    "            optimizer.step()\n",
    "\n",
    "            optimizer.zero_grad() \n",
    "            neg_pred = model(user.to(device), neg_item.to(device))\n",
    "            loss = criterion(neg_pred, neg_label)\n",
    "            loss.backward()\n",
    "            optimizer.step()\n",
    "    else:\n",
    "        avg_loss = 0\n",
    "        avg_loss_cnt = 0\n",
    "        for batch_num, batch in enumerate(train_loader):\n",
    "            user, pos_item, neg_item = batch\n",
    "            user = user.to(device)\n",
    "            pos_item = pos_item.to(device)\n",
    "            neg_item = neg_item.to(device)\n",
    "            \n",
    "            optimizer.zero_grad()\n",
    "#             model.zero_grad()\n",
    "            pos_pred = model(user, pos_item)\n",
    "            neg_pred = model(user, neg_item)\n",
    "            \n",
    "            loss = -((pos_pred-neg_pred).sigmoid().log().sum())\n",
    "            avg_loss += loss\n",
    "            avg_loss_cnt += user.shape[0]\n",
    "            \n",
    "            loss.backward()\n",
    "            optimizer.step()\n",
    "            \n",
    "        print(\"train loss: \\t{:.4f}\".format(avg_loss.item() / avg_loss_cnt), end = \"\\t\")\n",
    "    val_acc_sum = 0\n",
    "    val_acc_cnt = 0\n",
    "    val_loss_sum = 0\n",
    "    model.eval()\n",
    "    for batch_num, batch in enumerate(val_loader):\n",
    "        user, pos_item, neg_item = batch\n",
    "        user = user.to(device)\n",
    "        pos_item = pos_item.to(device)\n",
    "        neg_item = neg_item.to(device)\n",
    "        pos_pred = model(user, pos_item)\n",
    "        neg_pred = model(user, neg_item)\n",
    "        val_loss_sum += -((pos_pred-neg_pred).sigmoid().log().sum())\n",
    "        val_acc_cnt += user.shape[0]\n",
    "    loss = val_loss_sum.item() / val_acc_cnt\n",
    "    print(\"val loss: \\t{:.4f}\".format(loss))\n",
    "    if loss < best_loss:\n",
    "        best_loss = loss\n",
    "        torch.save(model.state_dict(), \"../model/model-best-{}.pt\".format(n_factors))\n",
    "    torch.save(model.state_dict(), \"../model/model-last-{}.pt\".format(n_factors))"
   ]
  },
  {
   "cell_type": "code",
   "execution_count": null,
   "metadata": {},
   "outputs": [],
   "source": [
    "print(best_loss)\n",
    "print(optimizer)\n",
    "model.load_state_dict(torch.load(\"model/model-last-{}.pt\".format(n_factors)))\n",
    "model.eval()\n",
    "\n",
    "answer = [[] for i in range(n_users)]\n",
    "\n",
    "\n",
    "for user in tqdm(range(n_users)):\n",
    "    model_items = [item for item in range(n_items) if (user, item) not in ratings_set]\n",
    "    model_users = [user] * len(model_items)\n",
    "    \n",
    "    preds = model(torch.tensor(model_users).to(device), torch.tensor(model_items).to(device))\n",
    "    indices = torch.topk(preds, 50, sorted=True).indices.tolist()\n",
    "    answer[user] = [model_items[i] for i in indices]\n",
    "\n",
    "print(answer[user])"
   ]
  },
  {
   "cell_type": "code",
   "execution_count": null,
   "metadata": {},
   "outputs": [],
   "source": [
    "with open(\"submission.csv\", 'w') as f:\n",
    "        f.write('UserId,ItemId\\n')\n",
    "        for user in range(len(answer)):\n",
    "            f.write('{},{}\\n'.format(str(user), ' '.join(str(a) for a in answer[user])))"
   ]
  },
  {
   "cell_type": "code",
   "execution_count": null,
   "metadata": {},
   "outputs": [],
   "source": [
    "print(\"train loss: {:.4f}\".format(avg_loss.item() / avg_loss_cnt))\n",
    "print(\"val loss: {:.4f}\".format(val_loss_sum.item() / val_acc_cnt))\n",
    "print(\"optimizer: \", optimizer)\n",
    "print(\"factors: \", n_factors)\n",
    "print(\"batch size: \", batch_size)\n",
    "print(\"epochs: \", n_epochs)"
   ]
  },
  {
   "cell_type": "code",
   "execution_count": null,
   "metadata": {},
   "outputs": [],
   "source": []
  }
 ],
 "metadata": {
  "kernelspec": {
   "display_name": "Python 3",
   "language": "python",
   "name": "python3"
  },
  "language_info": {
   "codemirror_mode": {
    "name": "ipython",
    "version": 3
   },
   "file_extension": ".py",
   "mimetype": "text/x-python",
   "name": "python",
   "nbconvert_exporter": "python",
   "pygments_lexer": "ipython3",
   "version": "3.7.6"
  }
 },
 "nbformat": 4,
 "nbformat_minor": 4
}
