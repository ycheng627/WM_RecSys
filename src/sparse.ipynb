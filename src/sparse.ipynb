{
 "cells": [
  {
   "cell_type": "code",
   "execution_count": 1,
   "metadata": {},
   "outputs": [],
   "source": [
    "import torch\n",
    "import scipy\n",
    "import numpy as np\n",
    "from torch.utils.data import Dataset, DataLoader\n",
    "import random\n",
    "from tqdm.notebook import tqdm, trange\n",
    "import torch.nn\n",
    "from scipy.sparse import coo_matrix\n",
    "from sklearn.model_selection import train_test_split\n",
    "\n",
    "train_path = \"../train.csv\"\n",
    "n_factors = 64\n",
    "learning_rate = 0.0005\n",
    "wd =  0.0005\n",
    "batch_size = 128\n",
    "n_epochs = 8\n",
    "use_BPR = True\n",
    "n_ng = 4"
   ]
  },
  {
   "cell_type": "code",
   "execution_count": 2,
   "metadata": {},
   "outputs": [],
   "source": [
    "class RatingsDataset(Dataset):\n",
    "    def __init__(self, ratings_list, ratings_set, n_users = 4454, n_items = 3260, n_ng = 4, is_training=None):\n",
    "        \"\"\"\n",
    "        Ratings is a scipy sparse matrix, list of keys (each of which have val of 1)\n",
    "        \"\"\"\n",
    "        self.ratings_list = ratings_list\n",
    "        if is_training:\n",
    "            self.ratings_list = ratings_list * n_ng\n",
    "        self.ratings_set = ratings_set\n",
    "        self.n_users = n_users\n",
    "        self.n_items = n_items\n",
    "        self.n_ng = n_ng\n",
    "        self.is_training = is_training\n",
    "        self.ratings_with_ng = []\n",
    "        if self.is_training:\n",
    "            self.get_ng()\n",
    "            \n",
    "            \n",
    "    def __len__(self):\n",
    "        if self.is_training:\n",
    "            return len(self.ratings_with_ng)\n",
    "        else:\n",
    "            return len(self.ratings_list)\n",
    "    \n",
    "    def get_ng(self):\n",
    "        for user, pos_item in self.ratings_list:\n",
    "            for _ in range(n_ng):\n",
    "                neg_item = np.random.randint(self.n_items)\n",
    "                while (user, neg_item) in self.ratings_set:\n",
    "                    neg_item = np.random.randint(self.n_items)\n",
    "                self.ratings_with_ng.append((user, pos_item, neg_item))\n",
    "        \n",
    "    \n",
    "    def __getitem__(self, idx):\n",
    "        if self.is_training:\n",
    "            return self.ratings_with_ng[idx]\n",
    "        return self.ratings_list[idx]"
   ]
  },
  {
   "cell_type": "code",
   "execution_count": 3,
   "metadata": {},
   "outputs": [],
   "source": [
    "class MF(torch.nn.Module):## Model for task 1\n",
    "    def __init__(self, n_factors = 16, n_users = 4454, n_items = 3260):\n",
    "        super(MF, self).__init__()\n",
    "        self.user_factors = torch.nn.Embedding(n_users, n_factors)\n",
    "        self.item_factors = torch.nn.Embedding(n_items, n_factors)\n",
    "        \n",
    "    def forward(self, user, item):\n",
    "        return (self.user_factors(user) * self.item_factors(item)).sum(1)"
   ]
  },
  {
   "cell_type": "code",
   "execution_count": 4,
   "metadata": {},
   "outputs": [],
   "source": [
    "ratings_list = []\n",
    "n_users = 0\n",
    "n_items = 0\n",
    "with open(train_path) as f:\n",
    "    for no, line in enumerate(f):\n",
    "        if no == 0: continue\n",
    "        line = line.split(\",\")\n",
    "        id = int(line[0])\n",
    "        items = line[1].split()\n",
    "        for item in items:\n",
    "            ratings_list.append((id, int(item)))\n",
    "            if id > n_users:\n",
    "                n_users  = id\n",
    "            if int(item) > n_items:\n",
    "                n_items = int(item)\n",
    "\n",
    "\n",
    "n_users += 1\n",
    "n_items += 1\n",
    "\n",
    "ratings_set = set(ratings_list)\n",
    "            "
   ]
  },
  {
   "cell_type": "code",
   "execution_count": 5,
   "metadata": {},
   "outputs": [
    {
     "name": "stdout",
     "output_type": "stream",
     "text": [
      "278169\n",
      "30908\n",
      "4450704\n",
      "30908\n"
     ]
    }
   ],
   "source": [
    "train_ratings_list, val_ratings_list =  train_test_split(ratings_list, test_size=0.1)\n",
    "\n",
    "print(len(train_ratings_list))\n",
    "print(len(val_ratings_list))\n",
    "\n",
    "train_dataset = RatingsDataset(train_ratings_list, ratings_set, n_ng = n_ng, is_training = True)\n",
    "val_dataset = RatingsDataset(val_ratings_list, ratings_set, is_training = False)\n",
    "\n",
    "print(len(train_dataset))\n",
    "print(len(val_dataset))\n",
    "\n",
    "train_loader = DataLoader(train_dataset, batch_size=batch_size, shuffle=True, num_workers=0)\n",
    "val_loader = DataLoader(val_dataset, batch_size=batch_size, shuffle=True, num_workers=0)"
   ]
  },
  {
   "cell_type": "code",
   "execution_count": null,
   "metadata": {},
   "outputs": [
    {
     "data": {
      "application/vnd.jupyter.widget-view+json": {
       "model_id": "07abf1933f894b31aacafc08fe60ec00",
       "version_major": 2,
       "version_minor": 0
      },
      "text/plain": [
       "HBox(children=(FloatProgress(value=0.0, description='0 / 8: 1', max=8.0, style=ProgressStyle(description_width…"
      ]
     },
     "metadata": {},
     "output_type": "display_data"
    },
    {
     "name": "stdout",
     "output_type": "stream",
     "text": [
      "val loss: 0.7965\n"
     ]
    }
   ],
   "source": [
    "model = MF()\n",
    "if not use_BPR:\n",
    "    criterion = torch.nn.BCEWithLogitsLoss()\n",
    "else:\n",
    "    criterion = None\n",
    "optimizer = torch.optim.Adam(model.parameters(), lr=learning_rate, weight_decay= wd)\n",
    "\n",
    "\n",
    "best_loss = 100\n",
    "\n",
    "t = trange(n_epochs, desc='{} / {}: {}'.format(0, n_epochs, 1), leave=True)\n",
    "for e in t:\n",
    "    model.train()\n",
    "    \n",
    "    if not use_BPR:\n",
    "        for batch_num, batch in enumerate(train_loader):\n",
    "            user, pos_item, neg_item = batch\n",
    "            \n",
    "            \n",
    "            pos_label = torch.ones(pos_item.shape)\n",
    "            neg_label = torch.zeros(neg_item.shape)\n",
    "\n",
    "            optimizer.zero_grad() \n",
    "            pos_pred = model(user, pos_item)\n",
    "            loss = criterion(pos_pred, pos_label)\n",
    "#             pos_losses.append(loss)\n",
    "            loss.backward()\n",
    "            optimizer.step()\n",
    "\n",
    "            optimizer.zero_grad() \n",
    "            neg_pred = model(user, neg_item)\n",
    "            loss = criterion(neg_pred, neg_label)\n",
    "#             neg_losses.append(loss)\n",
    "            loss.backward()\n",
    "            optimizer.step()\n",
    "    else:\n",
    "        for batch_num, batch in enumerate(train_loader):\n",
    "            user, pos_item, neg_item = batch\n",
    "            pos_label = torch.ones(pos_item.shape)\n",
    "            neg_label = torch.zeros(neg_item.shape)\n",
    "            \n",
    "            optimizer.zero_grad()\n",
    "            pos_pred = model(user, pos_item)\n",
    "            neg_pred = model(user, neg_item)\n",
    "            \n",
    "            loss = -(pos_pred-neg_pred).sigmoid().log().sum()\n",
    "#             pos_losses.append(loss)\n",
    "            loss.backward()\n",
    "            optimizer.step()\n",
    "            \n",
    "    val_acc_sum = 0\n",
    "    val_acc_cnt = 0\n",
    "    val_loss_sum = 0\n",
    "    model.eval()\n",
    "    for batch_num, batch in enumerate(val_loader):\n",
    "        user, pos_item = batch\n",
    "        neg_item = np.random.randint(n_items)\n",
    "        while (user, neg_item) in ratings_set:\n",
    "            neg_item = np.random.randint(n_items)\n",
    "        pos_pred = model(user, pos_item)\n",
    "        neg_pred = model(user, torch.tensor(neg_item))\n",
    "        val_loss_sum += -(pos_pred-neg_pred).sigmoid().log().sum()\n",
    "        val_acc_cnt += user.shape[0]\n",
    "    loss = val_loss_sum.item() / val_acc_cnt\n",
    "    print(\"val loss: {:.4f}\".format(loss))\n",
    "    if loss < best_loss:\n",
    "        best_loss = loss\n",
    "        torch.save(model.state_dict(), \"model-{}.pt\".format(n_factors))"
   ]
  },
  {
   "cell_type": "code",
   "execution_count": null,
   "metadata": {},
   "outputs": [],
   "source": [
    "print(best_loss)\n",
    "model.load_state_dict(torch.load(\"model-{}.pt\".format(n_factors)))\n",
    "model.eval()\n",
    "\n",
    "answer = [[] for i in range(n_users)]\n",
    "\n",
    "for user in tqdm(range(n_users)):\n",
    "    model_items = [item for item in range(n_items) if (user, item) not in ratings_set]\n",
    "    model_users = [user] * len(model_items)\n",
    "    \n",
    "    preds = model(torch.tensor(model_users), torch.tensor(model_items))\n",
    "    indices = torch.topk(preds, 50, sorted=True).indices.tolist()\n",
    "    answer[user] = [model_items[i] for i in indices]\n",
    "\n",
    "print(answer[user])"
   ]
  },
  {
   "cell_type": "code",
   "execution_count": null,
   "metadata": {},
   "outputs": [],
   "source": [
    "with open(\"submission.csv\", 'w') as f:\n",
    "        f.write('UserId,ItemId\\n')\n",
    "        for user in range(len(answer)):\n",
    "            f.write('{},{}\\n'.format(str(user), ' '.join(str(a) for a in answer[user])))"
   ]
  },
  {
   "cell_type": "code",
   "execution_count": null,
   "metadata": {},
   "outputs": [],
   "source": []
  }
 ],
 "metadata": {
  "kernelspec": {
   "display_name": "Python 3",
   "language": "python",
   "name": "python3"
  },
  "language_info": {
   "codemirror_mode": {
    "name": "ipython",
    "version": 3
   },
   "file_extension": ".py",
   "mimetype": "text/x-python",
   "name": "python",
   "nbconvert_exporter": "python",
   "pygments_lexer": "ipython3",
   "version": "3.7.6"
  }
 },
 "nbformat": 4,
 "nbformat_minor": 4
}
